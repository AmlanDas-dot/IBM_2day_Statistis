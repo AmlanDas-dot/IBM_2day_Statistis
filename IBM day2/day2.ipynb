{
 "cells": [
  {
   "cell_type": "code",
   "execution_count": 1,
   "metadata": {},
   "outputs": [
    {
     "name": "stdout",
     "output_type": "stream",
     "text": [
      "       EMP   ID\n",
      "0   Parker  102\n",
      "1     John  107\n",
      "2    Smith  109\n",
      "3  William  114\n"
     ]
    }
   ],
   "source": [
    "import pandas as pd\n",
    "import matplotlib.pyplot as plt\n",
    "import numpy as np\n",
    "emp = ['Parker','John','Smith','William']\n",
    "ide = [102,107,109,114]\n",
    "emp_series = pd.Series(emp)\n",
    "ide_series = pd.Series(ide)\n",
    "frame = {'EMP':emp_series,'ID':ide_series}\n",
    "result=pd.DataFrame(frame)\n",
    "print(result)"
   ]
  },
  {
   "cell_type": "code",
   "execution_count": 2,
   "metadata": {},
   "outputs": [
    {
     "data": {
      "text/html": [
       "<div>\n",
       "<style scoped>\n",
       "    .dataframe tbody tr th:only-of-type {\n",
       "        vertical-align: middle;\n",
       "    }\n",
       "\n",
       "    .dataframe tbody tr th {\n",
       "        vertical-align: top;\n",
       "    }\n",
       "\n",
       "    .dataframe thead th {\n",
       "        text-align: right;\n",
       "    }\n",
       "</style>\n",
       "<table border=\"1\" class=\"dataframe\">\n",
       "  <thead>\n",
       "    <tr style=\"text-align: right;\">\n",
       "      <th></th>\n",
       "      <th>0</th>\n",
       "    </tr>\n",
       "  </thead>\n",
       "  <tbody>\n",
       "    <tr>\n",
       "      <th>0</th>\n",
       "      <td>a</td>\n",
       "    </tr>\n",
       "    <tr>\n",
       "      <th>1</th>\n",
       "      <td>b</td>\n",
       "    </tr>\n",
       "    <tr>\n",
       "      <th>2</th>\n",
       "      <td>c</td>\n",
       "    </tr>\n",
       "  </tbody>\n",
       "</table>\n",
       "</div>"
      ],
      "text/plain": [
       "   0\n",
       "0  a\n",
       "1  b\n",
       "2  c"
      ]
     },
     "execution_count": 2,
     "metadata": {},
     "output_type": "execute_result"
    }
   ],
   "source": [
    "s=pd.Series([\"a\",\"b\",\"c\"])\n",
    "name=\"vals\"\n",
    "s.to_frame()"
   ]
  },
  {
   "cell_type": "code",
   "execution_count": 3,
   "metadata": {},
   "outputs": [
    {
     "data": {
      "text/plain": [
       "0    Core\n",
       "1     NaN\n",
       "2     NaN\n",
       "3     NaN\n",
       "dtype: object"
      ]
     },
     "execution_count": 3,
     "metadata": {},
     "output_type": "execute_result"
    }
   ],
   "source": [
    "import pandas as pd\n",
    "import numpy as np\n",
    "a=pd.Series(['Java','C','C++',np.nan])\n",
    "a.map({'Java':'Core'})"
   ]
  },
  {
   "cell_type": "code",
   "execution_count": 4,
   "metadata": {},
   "outputs": [
    {
     "data": {
      "text/plain": [
       "0    Core\n",
       "1     NaN\n",
       "2     NaN\n",
       "3     NaN\n",
       "dtype: object"
      ]
     },
     "execution_count": 4,
     "metadata": {},
     "output_type": "execute_result"
    }
   ],
   "source": [
    "#mapping values\n",
    "import pandas as pd\n",
    "import numpy as np\n",
    "a=pd.Series(['Java','C','C++',np.nan])\n",
    "a.map({'Java':'Core'})"
   ]
  },
  {
   "cell_type": "code",
   "execution_count": 5,
   "metadata": {},
   "outputs": [
    {
     "name": "stdout",
     "output_type": "stream",
     "text": [
      "        0\n",
      "0  Python\n",
      "1  Pandas\n"
     ]
    }
   ],
   "source": [
    "#converting list to data frame\n",
    "\n",
    "import pandas as pd\n",
    "x = ['Python', 'Pandas']\n",
    "df = pd.DataFrame(x)\n",
    "print(df)"
   ]
  },
  {
   "cell_type": "code",
   "execution_count": 6,
   "metadata": {},
   "outputs": [
    {
     "name": "stdout",
     "output_type": "stream",
     "text": [
      "0    P\n",
      "1    a\n",
      "2    n\n",
      "3    d\n",
      "4    a\n",
      "5    s\n",
      "dtype: object\n"
     ]
    }
   ],
   "source": [
    "import pandas as pd\n",
    "import numpy as np\n",
    "info = np.array(['P','a','n','d','a','s'])\n",
    "a = pd.Series(info)\n",
    "print(a)"
   ]
  },
  {
   "cell_type": "code",
   "execution_count": 7,
   "metadata": {},
   "outputs": [
    {
     "name": "stdout",
     "output_type": "stream",
     "text": [
      "        Name  Age        City\n",
      "0      Amlan   19     Cuttack\n",
      "1     Ashmit   18     Asansol\n",
      "2   Anshuman   20  Rourbanana\n",
      "3     Satwik   18    Balasore\n",
      "4  Atmajyoti   19   Michighan\n"
     ]
    }
   ],
   "source": [
    "'''create e dictionary, name, age and city and pass the values to it and convert that to the dataframe '''\n",
    "\n",
    "import pandas as pd\n",
    "info = {'Name':pd.Series(['Amlan','Ashmit','Anshuman','Satwik','Atmajyoti']),\n",
    "        'Age':pd.Series([19,18,20,18,19]),\n",
    "        'City':pd.Series(['Cuttack','Asansol','Rourbanana','Balasore','Michighan'])}\n",
    "frame2 = pd.DataFrame(info)\n",
    "print(frame2)"
   ]
  },
  {
   "cell_type": "code",
   "execution_count": 8,
   "metadata": {},
   "outputs": [
    {
     "name": "stdout",
     "output_type": "stream",
     "text": [
      "   one  two\n",
      "a  1.0    1\n",
      "b  2.0    2\n",
      "c  3.0    3\n",
      "d  4.0    4\n",
      "e  5.0    5\n",
      "f  6.0    6\n",
      "g  NaN    7\n",
      "h  NaN    8\n"
     ]
    }
   ],
   "source": [
    "import pandas as pd\n",
    "info = {'one':pd.Series([1,2,3,4,5,6], index = ['a','b','c','d','e','f']),\n",
    "       'two':pd.Series([1,2,3,4,5,6,7,8],index=['a','b','c','d','e','f','g','h'])}\n",
    "d1 = pd.DataFrame(info)\n",
    "print(d1)"
   ]
  },
  {
   "cell_type": "code",
   "execution_count": 9,
   "metadata": {},
   "outputs": [
    {
     "name": "stdout",
     "output_type": "stream",
     "text": [
      "  stud_name  stud_id  Dept Grade\n",
      "0         X      101   FET     A\n",
      "1         Y      102   FOS     A\n",
      "2         Z      103   FMS     D\n",
      "3         W      104  FOAg     B\n",
      "4         V      105   FET     A\n",
      "5         U      106   FOS     C\n",
      "\n",
      "\n"
     ]
    },
    {
     "data": {
      "text/plain": [
       "stud_name      Z\n",
       "stud_id      103\n",
       "Dept         FMS\n",
       "Grade          D\n",
       "Name: 2, dtype: object"
      ]
     },
     "execution_count": 9,
     "metadata": {},
     "output_type": "execute_result"
    }
   ],
   "source": [
    "#Assesment 3 \n",
    "\n",
    "'''Create a dict with\n",
    "stud name\n",
    "stud id\n",
    "dept\n",
    "grade\n",
    "Note: Pass values for each\n",
    "\n",
    "Convert it into a Data Frame\n",
    "\n",
    "1. Retrieve using the dept name\n",
    "2. Retreive using the iloc of 2\n",
    "3. Retreive using the id of the students'''\n",
    "\n",
    "stud = {'stud_name':pd.Series(['X','Y','Z','W','V','U']),\n",
    "        'stud_id':pd.Series([101,102,103,104,105,106]),\n",
    "        'Dept':pd.Series(['FET','FOS','FMS','FOAg','FET','FOS']),\n",
    "        'Grade':pd.Series(['A','A','D','B','A','C'])}\n",
    "frame3 = pd.DataFrame(stud)\n",
    "print(frame3)\n",
    "print('\\n')\n",
    "\n",
    "#1. Retreiving using the dept names\n",
    "frame3.loc[2]"
   ]
  }
 ],
 "metadata": {
  "kernelspec": {
   "display_name": "base",
   "language": "python",
   "name": "python3"
  },
  "language_info": {
   "codemirror_mode": {
    "name": "ipython",
    "version": 3
   },
   "file_extension": ".py",
   "mimetype": "text/x-python",
   "name": "python",
   "nbconvert_exporter": "python",
   "pygments_lexer": "ipython3",
   "version": "3.11.4"
  }
 },
 "nbformat": 4,
 "nbformat_minor": 2
}
